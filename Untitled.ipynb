{
 "cells": [
  {
   "cell_type": "code",
   "execution_count": 1,
   "metadata": {},
   "outputs": [
    {
     "name": "stdout",
     "output_type": "stream",
     "text": [
      "/bin/sh: pip: command not found\r\n"
     ]
    }
   ],
   "source": [
    "!pip install aiogram gspread oauth2client\n"
   ]
  },
  {
   "cell_type": "code",
   "execution_count": 2,
   "metadata": {},
   "outputs": [
    {
     "name": "stdout",
     "output_type": "stream",
     "text": [
      "/bin/sh: python: command not found\r\n"
     ]
    }
   ],
   "source": [
    "!python client_bot.py\n"
   ]
  },
  {
   "cell_type": "code",
   "execution_count": 3,
   "metadata": {},
   "outputs": [],
   "source": [
    "!which python\n"
   ]
  },
  {
   "cell_type": "code",
   "execution_count": 4,
   "metadata": {},
   "outputs": [
    {
     "name": "stdout",
     "output_type": "stream",
     "text": [
      "/bin/sh: pip: command not found\r\n"
     ]
    }
   ],
   "source": [
    "!pip install aiogram gspread oauth2client"
   ]
  },
  {
   "cell_type": "code",
   "execution_count": 5,
   "metadata": {},
   "outputs": [
    {
     "ename": "NameError",
     "evalue": "name 'bash' is not defined",
     "output_type": "error",
     "traceback": [
      "\u001b[0;31m---------------------------------------------------------------------------\u001b[0m",
      "\u001b[0;31mNameError\u001b[0m                                 Traceback (most recent call last)",
      "\u001b[0;32m<ipython-input-5-c69b2d8b4a8d>\u001b[0m in \u001b[0;36m<module>\u001b[0;34m\u001b[0m\n\u001b[0;32m----> 1\u001b[0;31m \u001b[0mbin\u001b[0m\u001b[0;34m/\u001b[0m\u001b[0mbash\u001b[0m\u001b[0;34m(\u001b[0m\u001b[0;34m-\u001b[0m\u001b[0mc\u001b[0m\u001b[0;34m,\u001b[0m \u001b[0;34m\"$(curl, -fsSL, https://raw.githubusercontent.com/Homebrew/install/HEAD/install.sh)\"\u001b[0m\u001b[0;34m)\u001b[0m\u001b[0;34m\u001b[0m\u001b[0;34m\u001b[0m\u001b[0m\n\u001b[0m",
      "\u001b[0;31mNameError\u001b[0m: name 'bash' is not defined"
     ]
    }
   ],
   "source": [
    "/bin/bash -c \"$(curl -fsSL https://raw.githubusercontent.com/Homebrew/install/HEAD/install.sh)\"\n"
   ]
  },
  {
   "cell_type": "code",
   "execution_count": 6,
   "metadata": {},
   "outputs": [
    {
     "name": "stdout",
     "output_type": "stream",
     "text": [
      "/bin/sh: pip: command not found\r\n"
     ]
    }
   ],
   "source": [
    "!pip install aiogram gspread oauth2client\n"
   ]
  },
  {
   "cell_type": "code",
   "execution_count": 7,
   "metadata": {},
   "outputs": [
    {
     "name": "stdout",
     "output_type": "stream",
     "text": [
      "Defaulting to user installation because normal site-packages is not writeable\n",
      "Collecting aiogram\n",
      "  Downloading aiogram-3.20.0.post0-py3-none-any.whl (666 kB)\n",
      "\u001b[K     |████████████████████████████████| 666 kB 501 kB/s eta 0:00:01\n",
      "\u001b[?25hCollecting gspread\n",
      "  Downloading gspread-6.2.1-py3-none-any.whl (59 kB)\n",
      "\u001b[K     |████████████████████████████████| 59 kB 258 kB/s eta 0:00:01\n",
      "\u001b[?25hCollecting oauth2client\n",
      "  Using cached oauth2client-4.1.3-py2.py3-none-any.whl (98 kB)\n",
      "Collecting pydantic<2.12,>=2.4.1\n",
      "  Downloading pydantic-2.11.5-py3-none-any.whl (444 kB)\n",
      "\u001b[K     |████████████████████████████████| 444 kB 100 kB/s eta 0:00:0103\n",
      "\u001b[?25hCollecting magic-filter<1.1,>=1.0.12\n",
      "  Using cached magic_filter-1.0.12-py3-none-any.whl (11 kB)\n",
      "Collecting typing-extensions<=5.0,>=4.7.0\n",
      "  Downloading typing_extensions-4.14.0-py3-none-any.whl (43 kB)\n",
      "\u001b[K     |████████████████████████████████| 43 kB 185 kB/s eta 0:00:01\n",
      "\u001b[?25hCollecting aiohttp<3.12,>=3.9.0\n",
      "  Downloading aiohttp-3.11.18-cp39-cp39-macosx_10_9_x86_64.whl (471 kB)\n",
      "\u001b[K     |████████████████████████████████| 471 kB 132 kB/s eta 0:00:01\n",
      "\u001b[?25hCollecting certifi>=2023.7.22\n",
      "  Using cached certifi-2025.4.26-py3-none-any.whl (159 kB)\n",
      "Collecting aiofiles<24.2,>=23.2.1\n",
      "  Downloading aiofiles-24.1.0-py3-none-any.whl (15 kB)\n",
      "Collecting google-auth-oauthlib>=0.4.1\n",
      "  Using cached google_auth_oauthlib-1.2.2-py3-none-any.whl (19 kB)\n",
      "Collecting google-auth>=1.12.0\n",
      "  Using cached google_auth-2.40.3-py2.py3-none-any.whl (216 kB)\n",
      "Collecting pyasn1-modules>=0.0.5\n",
      "  Downloading pyasn1_modules-0.4.2-py3-none-any.whl (181 kB)\n",
      "\u001b[K     |████████████████████████████████| 181 kB 64 kB/s  eta 0:00:01\n",
      "\u001b[?25hCollecting pyasn1>=0.1.7\n",
      "  Downloading pyasn1-0.6.1-py3-none-any.whl (83 kB)\n",
      "\u001b[K     |████████████████████████████████| 83 kB 125 kB/s eta 0:00:01\n",
      "\u001b[?25hCollecting rsa>=3.1.4\n",
      "  Using cached rsa-4.9.1-py3-none-any.whl (34 kB)\n",
      "Requirement already satisfied: six>=1.6.1 in /Library/Developer/CommandLineTools/Library/Frameworks/Python3.framework/Versions/3.9/lib/python3.9/site-packages (from oauth2client) (1.15.0)\n",
      "Collecting httplib2>=0.9.1\n",
      "  Using cached httplib2-0.22.0-py3-none-any.whl (96 kB)\n",
      "Collecting aiosignal>=1.1.2\n",
      "  Downloading aiosignal-1.3.2-py2.py3-none-any.whl (7.6 kB)\n",
      "Collecting attrs>=17.3.0\n",
      "  Downloading attrs-25.3.0-py3-none-any.whl (63 kB)\n",
      "\u001b[K     |████████████████████████████████| 63 kB 121 kB/s eta 0:00:01\n",
      "\u001b[?25hCollecting multidict<7.0,>=4.5\n",
      "  Downloading multidict-6.4.4-cp39-cp39-macosx_10_9_x86_64.whl (38 kB)\n",
      "Collecting propcache>=0.2.0\n",
      "  Downloading propcache-0.3.1-cp39-cp39-macosx_10_9_x86_64.whl (47 kB)\n",
      "\u001b[K     |████████████████████████████████| 47 kB 199 kB/s eta 0:00:01\n",
      "\u001b[?25hCollecting frozenlist>=1.1.1\n",
      "  Downloading frozenlist-1.6.2-cp39-cp39-macosx_10_9_x86_64.whl (50 kB)\n",
      "\u001b[K     |████████████████████████████████| 50 kB 204 kB/s eta 0:00:01\n",
      "\u001b[?25hCollecting yarl<2.0,>=1.17.0\n",
      "  Downloading yarl-1.20.0-cp39-cp39-macosx_10_9_x86_64.whl (97 kB)\n",
      "\u001b[K     |████████████████████████████████| 97 kB 175 kB/s eta 0:00:01\n",
      "\u001b[?25hCollecting async-timeout<6.0,>=4.0\n",
      "  Downloading async_timeout-5.0.1-py3-none-any.whl (6.2 kB)\n",
      "Collecting aiohappyeyeballs>=2.3.0\n",
      "  Downloading aiohappyeyeballs-2.6.1-py3-none-any.whl (15 kB)\n",
      "Collecting cachetools<6.0,>=2.0.0\n",
      "  Using cached cachetools-5.5.2-py3-none-any.whl (10 kB)\n",
      "Collecting requests-oauthlib>=0.7.0\n",
      "  Using cached requests_oauthlib-2.0.0-py2.py3-none-any.whl (24 kB)\n",
      "Collecting pyparsing!=3.0.0,!=3.0.1,!=3.0.2,!=3.0.3,<4,>=2.4.2\n",
      "  Downloading pyparsing-3.2.3-py3-none-any.whl (111 kB)\n",
      "\u001b[K     |████████████████████████████████| 111 kB 160 kB/s eta 0:00:01\n",
      "\u001b[?25hCollecting annotated-types>=0.6.0\n",
      "  Downloading annotated_types-0.7.0-py3-none-any.whl (13 kB)\n",
      "Collecting typing-inspection>=0.4.0\n",
      "  Downloading typing_inspection-0.4.1-py3-none-any.whl (14 kB)\n",
      "Collecting pydantic-core==2.33.2\n",
      "  Downloading pydantic_core-2.33.2-cp39-cp39-macosx_10_12_x86_64.whl (2.0 MB)\n",
      "\u001b[K     |████████████████████████████████| 2.0 MB 205 kB/s eta 0:00:01\n",
      "\u001b[?25hCollecting requests>=2.0.0\n",
      "  Downloading requests-2.32.3-py3-none-any.whl (64 kB)\n",
      "\u001b[K     |████████████████████████████████| 64 kB 206 kB/s eta 0:00:01\n",
      "\u001b[?25hCollecting oauthlib>=3.0.0\n",
      "  Using cached oauthlib-3.2.2-py3-none-any.whl (151 kB)\n",
      "Collecting urllib3<3,>=1.21.1\n",
      "  Downloading urllib3-2.4.0-py3-none-any.whl (128 kB)\n",
      "\u001b[K     |████████████████████████████████| 128 kB 145 kB/s eta 0:00:01\n",
      "\u001b[?25hCollecting idna<4,>=2.5\n",
      "  Downloading idna-3.10-py3-none-any.whl (70 kB)\n",
      "\u001b[K     |████████████████████████████████| 70 kB 137 kB/s eta 0:00:01\n",
      "\u001b[?25hCollecting charset-normalizer<4,>=2\n",
      "  Downloading charset_normalizer-3.4.2-cp39-cp39-macosx_10_9_universal2.whl (201 kB)\n",
      "\u001b[K     |████████████████████████████████| 201 kB 142 kB/s eta 0:00:01\n",
      "\u001b[?25hInstalling collected packages: urllib3, typing-extensions, pyasn1, idna, charset-normalizer, certifi, rsa, requests, pyasn1-modules, propcache, oauthlib, multidict, frozenlist, cachetools, yarl, typing-inspection, requests-oauthlib, pyparsing, pydantic-core, google-auth, attrs, async-timeout, annotated-types, aiosignal, aiohappyeyeballs, pydantic, magic-filter, httplib2, google-auth-oauthlib, aiohttp, aiofiles, oauth2client, gspread, aiogram\n",
      "\u001b[33m  WARNING: The script normalizer is installed in '/Users/kemalshen/Library/Python/3.9/bin' which is not on PATH.\n",
      "  Consider adding this directory to PATH or, if you prefer to suppress this warning, use --no-warn-script-location.\u001b[0m\n",
      "\u001b[33m  WARNING: The scripts pyrsa-decrypt, pyrsa-encrypt, pyrsa-keygen, pyrsa-priv2pub, pyrsa-sign and pyrsa-verify are installed in '/Users/kemalshen/Library/Python/3.9/bin' which is not on PATH.\n",
      "  Consider adding this directory to PATH or, if you prefer to suppress this warning, use --no-warn-script-location.\u001b[0m\n",
      "\u001b[33m  WARNING: The script google-oauthlib-tool is installed in '/Users/kemalshen/Library/Python/3.9/bin' which is not on PATH.\n",
      "  Consider adding this directory to PATH or, if you prefer to suppress this warning, use --no-warn-script-location.\u001b[0m\n",
      "Successfully installed aiofiles-24.1.0 aiogram-3.20.0.post0 aiohappyeyeballs-2.6.1 aiohttp-3.11.18 aiosignal-1.3.2 annotated-types-0.7.0 async-timeout-5.0.1 attrs-25.3.0 cachetools-5.5.2 certifi-2025.4.26 charset-normalizer-3.4.2 frozenlist-1.6.2 google-auth-2.40.3 google-auth-oauthlib-1.2.2 gspread-6.2.1 httplib2-0.22.0 idna-3.10 magic-filter-1.0.12 multidict-6.4.4 oauth2client-4.1.3 oauthlib-3.2.2 propcache-0.3.1 pyasn1-0.6.1 pyasn1-modules-0.4.2 pydantic-2.11.5 pydantic-core-2.33.2 pyparsing-3.2.3 requests-2.32.3 requests-oauthlib-2.0.0 rsa-4.9.1 typing-extensions-4.14.0 typing-inspection-0.4.1 urllib3-2.4.0 yarl-1.20.0\n",
      "\u001b[33mWARNING: You are using pip version 21.2.4; however, version 25.1.1 is available.\n",
      "You should consider upgrading via the '/Library/Developer/CommandLineTools/usr/bin/python3 -m pip install --upgrade pip' command.\u001b[0m\n"
     ]
    }
   ],
   "source": [
    "!python3 -m pip install aiogram gspread oauth2client\n"
   ]
  },
  {
   "cell_type": "code",
   "execution_count": 8,
   "metadata": {},
   "outputs": [
    {
     "name": "stdout",
     "output_type": "stream",
     "text": [
      "Traceback (most recent call last):\r\n",
      "  File \"/Users/kemalshen/Desktop/TelegramBot/client_bot.py\", line 4, in <module>\r\n",
      "    from aiogram.utils import executor\r\n",
      "ImportError: cannot import name 'executor' from 'aiogram.utils' (/Users/kemalshen/Library/Python/3.9/lib/python/site-packages/aiogram/utils/__init__.py)\r\n"
     ]
    }
   ],
   "source": [
    "!python3 client_bot.py\n"
   ]
  },
  {
   "cell_type": "code",
   "execution_count": 9,
   "metadata": {},
   "outputs": [
    {
     "name": "stdout",
     "output_type": "stream",
     "text": [
      "/bin/sh: pip: command not found\r\n"
     ]
    }
   ],
   "source": [
    "!pip install aiogram==2.25.1\n"
   ]
  },
  {
   "cell_type": "code",
   "execution_count": 10,
   "metadata": {},
   "outputs": [
    {
     "name": "stdout",
     "output_type": "stream",
     "text": [
      "Defaulting to user installation because normal site-packages is not writeable\n",
      "Collecting aiogram==2.25.1\n",
      "  Downloading aiogram-2.25.1-py3-none-any.whl (203 kB)\n",
      "\u001b[K     |████████████████████████████████| 203 kB 340 kB/s eta 0:00:01\n",
      "\u001b[?25hRequirement already satisfied: magic-filter>=1.0.9 in /Users/kemalshen/Library/Python/3.9/lib/python/site-packages (from aiogram==2.25.1) (1.0.12)\n",
      "Collecting Babel<2.10.0,>=2.9.1\n",
      "  Using cached Babel-2.9.1-py2.py3-none-any.whl (8.8 MB)\n",
      "Collecting aiohttp<3.9.0,>=3.8.0\n",
      "  Downloading aiohttp-3.8.6-cp39-cp39-macosx_10_9_x86_64.whl (371 kB)\n",
      "\u001b[K     |████████████████████████████████| 371 kB 860 kB/s eta 0:00:01\n",
      "\u001b[?25hRequirement already satisfied: certifi>=2021.10.8 in /Users/kemalshen/Library/Python/3.9/lib/python/site-packages (from aiogram==2.25.1) (2025.4.26)\n",
      "Requirement already satisfied: charset-normalizer<4.0,>=2.0 in /Users/kemalshen/Library/Python/3.9/lib/python/site-packages (from aiohttp<3.9.0,>=3.8.0->aiogram==2.25.1) (3.4.2)\n",
      "Requirement already satisfied: attrs>=17.3.0 in /Users/kemalshen/Library/Python/3.9/lib/python/site-packages (from aiohttp<3.9.0,>=3.8.0->aiogram==2.25.1) (25.3.0)\n",
      "Requirement already satisfied: multidict<7.0,>=4.5 in /Users/kemalshen/Library/Python/3.9/lib/python/site-packages (from aiohttp<3.9.0,>=3.8.0->aiogram==2.25.1) (6.4.4)\n",
      "Requirement already satisfied: frozenlist>=1.1.1 in /Users/kemalshen/Library/Python/3.9/lib/python/site-packages (from aiohttp<3.9.0,>=3.8.0->aiogram==2.25.1) (1.6.2)\n",
      "Requirement already satisfied: yarl<2.0,>=1.0 in /Users/kemalshen/Library/Python/3.9/lib/python/site-packages (from aiohttp<3.9.0,>=3.8.0->aiogram==2.25.1) (1.20.0)\n",
      "Requirement already satisfied: aiosignal>=1.1.2 in /Users/kemalshen/Library/Python/3.9/lib/python/site-packages (from aiohttp<3.9.0,>=3.8.0->aiogram==2.25.1) (1.3.2)\n",
      "Collecting async-timeout<5.0,>=4.0.0a3\n",
      "  Using cached async_timeout-4.0.3-py3-none-any.whl (5.7 kB)\n",
      "Collecting pytz>=2015.7\n",
      "  Downloading pytz-2025.2-py2.py3-none-any.whl (509 kB)\n",
      "\u001b[K     |████████████████████████████████| 509 kB 933 kB/s eta 0:00:01\n",
      "\u001b[?25hRequirement already satisfied: typing-extensions>=4.1.0 in /Users/kemalshen/Library/Python/3.9/lib/python/site-packages (from multidict<7.0,>=4.5->aiohttp<3.9.0,>=3.8.0->aiogram==2.25.1) (4.14.0)\n",
      "Requirement already satisfied: propcache>=0.2.1 in /Users/kemalshen/Library/Python/3.9/lib/python/site-packages (from yarl<2.0,>=1.0->aiohttp<3.9.0,>=3.8.0->aiogram==2.25.1) (0.3.1)\n",
      "Requirement already satisfied: idna>=2.0 in /Users/kemalshen/Library/Python/3.9/lib/python/site-packages (from yarl<2.0,>=1.0->aiohttp<3.9.0,>=3.8.0->aiogram==2.25.1) (3.10)\n",
      "Installing collected packages: pytz, async-timeout, Babel, aiohttp, aiogram\n",
      "  Attempting uninstall: async-timeout\n",
      "    Found existing installation: async-timeout 5.0.1\n",
      "    Uninstalling async-timeout-5.0.1:\n",
      "      Successfully uninstalled async-timeout-5.0.1\n",
      "\u001b[33m  WARNING: The script pybabel is installed in '/Users/kemalshen/Library/Python/3.9/bin' which is not on PATH.\n",
      "  Consider adding this directory to PATH or, if you prefer to suppress this warning, use --no-warn-script-location.\u001b[0m\n",
      "  Attempting uninstall: aiohttp\n",
      "    Found existing installation: aiohttp 3.11.18\n",
      "    Uninstalling aiohttp-3.11.18:\n",
      "      Successfully uninstalled aiohttp-3.11.18\n",
      "  Attempting uninstall: aiogram\n",
      "    Found existing installation: aiogram 3.20.0.post0\n",
      "    Uninstalling aiogram-3.20.0.post0:\n",
      "      Successfully uninstalled aiogram-3.20.0.post0\n",
      "Successfully installed Babel-2.9.1 aiogram-2.25.1 aiohttp-3.8.6 async-timeout-4.0.3 pytz-2025.2\n",
      "\u001b[33mWARNING: You are using pip version 21.2.4; however, version 25.1.1 is available.\n",
      "You should consider upgrading via the '/Library/Developer/CommandLineTools/usr/bin/python3 -m pip install --upgrade pip' command.\u001b[0m\n"
     ]
    }
   ],
   "source": [
    "!python3 -m pip install aiogram==2.25.1\n"
   ]
  },
  {
   "cell_type": "code",
   "execution_count": 11,
   "metadata": {},
   "outputs": [
    {
     "name": "stdout",
     "output_type": "stream",
     "text": [
      "/Users/kemalshen/Library/Python/3.9/lib/python/site-packages/urllib3/__init__.py:35: NotOpenSSLWarning: urllib3 v2 only supports OpenSSL 1.1.1+, currently the 'ssl' module is compiled with 'LibreSSL 2.8.3'. See: https://github.com/urllib3/urllib3/issues/3020\r\n",
      "  warnings.warn(\r\n"
     ]
    }
   ],
   "source": [
    "!python3 client_bot.py\n"
   ]
  },
  {
   "cell_type": "code",
   "execution_count": 12,
   "metadata": {},
   "outputs": [
    {
     "name": "stdout",
     "output_type": "stream",
     "text": [
      "/Users/kemalshen/Library/Python/3.9/lib/python/site-packages/urllib3/__init__.py:35: NotOpenSSLWarning: urllib3 v2 only supports OpenSSL 1.1.1+, currently the 'ssl' module is compiled with 'LibreSSL 2.8.3'. See: https://github.com/urllib3/urllib3/issues/3020\n",
      "  warnings.warn(\n",
      "Traceback (most recent call last):\n",
      "  File \"/Users/kemalshen/Library/Python/3.9/lib/python/site-packages/gspread/client.py\", line 147, in open\n",
      "    properties = finditem(\n",
      "  File \"/Users/kemalshen/Library/Python/3.9/lib/python/site-packages/gspread/utils.py\", line 224, in finditem\n",
      "    return next(item for item in seq if func(item))\n",
      "StopIteration\n",
      "\n",
      "The above exception was the direct cause of the following exception:\n",
      "\n",
      "Traceback (most recent call last):\n",
      "  File \"/Users/kemalshen/Desktop/TelegramBot/client_bot.py\", line 23, in <module>\n",
      "    sheet = client.open(GSHEET_NAME).sheet1\n",
      "  File \"/Users/kemalshen/Library/Python/3.9/lib/python/site-packages/gspread/client.py\", line 152, in open\n",
      "    raise SpreadsheetNotFound(response) from ex\n",
      "gspread.exceptions.SpreadsheetNotFound: <Response [200]>\n"
     ]
    }
   ],
   "source": [
    "!python3 client_bot.py\n"
   ]
  },
  {
   "cell_type": "code",
   "execution_count": 13,
   "metadata": {},
   "outputs": [
    {
     "name": "stdout",
     "output_type": "stream",
     "text": [
      "/Users/kemalshen/Library/Python/3.9/lib/python/site-packages/urllib3/__init__.py:35: NotOpenSSLWarning: urllib3 v2 only supports OpenSSL 1.1.1+, currently the 'ssl' module is compiled with 'LibreSSL 2.8.3'. See: https://github.com/urllib3/urllib3/issues/3020\n",
      "  warnings.warn(\n",
      "INFO:aiogram:Bot: ZalogGO [@ZalogGoBot]\n",
      "WARNING:aiogram:Updates were skipped successfully.\n",
      "INFO:aiogram.dispatcher.dispatcher:Start polling.\n",
      "^C\n",
      "INFO:aiogram.dispatcher.dispatcher:Stop polling...\n",
      "WARNING:aiogram:Goodbye!\n"
     ]
    }
   ],
   "source": [
    "!python3 client_bot.py\n"
   ]
  },
  {
   "cell_type": "code",
   "execution_count": 14,
   "metadata": {},
   "outputs": [
    {
     "name": "stdout",
     "output_type": "stream",
     "text": [
      "/Users/kemalshen/Library/Python/3.9/lib/python/site-packages/urllib3/__init__.py:35: NotOpenSSLWarning: urllib3 v2 only supports OpenSSL 1.1.1+, currently the 'ssl' module is compiled with 'LibreSSL 2.8.3'. See: https://github.com/urllib3/urllib3/issues/3020\n",
      "  warnings.warn(\n",
      "^C\n",
      "Traceback (most recent call last):\n",
      "  File \"/Users/kemalshen/Desktop/TelegramBot/client_bot.py\", line 24, in <module>\n",
      "    sheet = client.open(GSHEET_NAME).sheet1\n",
      "  File \"/Users/kemalshen/Library/Python/3.9/lib/python/site-packages/gspread/client.py\", line 145, in open\n",
      "    spreadsheet_files, response = self._list_spreadsheet_files(title, folder_id)\n",
      "  File \"/Users/kemalshen/Library/Python/3.9/lib/python/site-packages/gspread/client.py\", line 118, in _list_spreadsheet_files\n",
      "    response = self.http_client.request(\"get\", url, params=params)\n",
      "  File \"/Users/kemalshen/Library/Python/3.9/lib/python/site-packages/gspread/http_client.py\", line 114, in request\n",
      "    response = self.session.request(\n",
      "  File \"/Users/kemalshen/Library/Python/3.9/lib/python/site-packages/google/auth/transport/requests.py\", line 540, in request\n",
      "    response = super(AuthorizedSession, self).request(\n",
      "  File \"/Users/kemalshen/Library/Python/3.9/lib/python/site-packages/requests/sessions.py\", line 589, in request\n",
      "    resp = self.send(prep, **send_kwargs)\n",
      "  File \"/Users/kemalshen/Library/Python/3.9/lib/python/site-packages/requests/sessions.py\", line 703, in send\n",
      "    r = adapter.send(request, **kwargs)\n",
      "  File \"/Users/kemalshen/Library/Python/3.9/lib/python/site-packages/requests/adapters.py\", line 667, in send\n",
      "    resp = conn.urlopen(\n",
      "  File \"/Users/kemalshen/Library/Python/3.9/lib/python/site-packages/urllib3/connectionpool.py\", line 787, in urlopen\n",
      "    response = self._make_request(\n",
      "  File \"/Users/kemalshen/Library/Python/3.9/lib/python/site-packages/urllib3/connectionpool.py\", line 534, in _make_request\n",
      "    response = conn.getresponse()\n",
      "  File \"/Users/kemalshen/Library/Python/3.9/lib/python/site-packages/urllib3/connection.py\", line 516, in getresponse\n",
      "    httplib_response = super().getresponse()\n",
      "  File \"/Library/Developer/CommandLineTools/Library/Frameworks/Python3.framework/Versions/3.9/lib/python3.9/http/client.py\", line 1349, in getresponse\n",
      "    response.begin()\n",
      "  File \"/Library/Developer/CommandLineTools/Library/Frameworks/Python3.framework/Versions/3.9/lib/python3.9/http/client.py\", line 316, in begin\n",
      "    version, status, reason = self._read_status()\n",
      "  File \"/Library/Developer/CommandLineTools/Library/Frameworks/Python3.framework/Versions/3.9/lib/python3.9/http/client.py\", line 277, in _read_status\n",
      "    line = str(self.fp.readline(_MAXLINE + 1), \"iso-8859-1\")\n",
      "  File \"/Library/Developer/CommandLineTools/Library/Frameworks/Python3.framework/Versions/3.9/lib/python3.9/socket.py\", line 704, in readinto\n",
      "    return self._sock.recv_into(b)\n",
      "  File \"/Library/Developer/CommandLineTools/Library/Frameworks/Python3.framework/Versions/3.9/lib/python3.9/ssl.py\", line 1241, in recv_into\n",
      "    return self.read(nbytes, buffer)\n",
      "  File \"/Library/Developer/CommandLineTools/Library/Frameworks/Python3.framework/Versions/3.9/lib/python3.9/ssl.py\", line 1099, in read\n",
      "    return self._sslobj.read(len, buffer)\n",
      "KeyboardInterrupt\n"
     ]
    }
   ],
   "source": [
    "!python3 client_bot.py\n"
   ]
  },
  {
   "cell_type": "code",
   "execution_count": 15,
   "metadata": {},
   "outputs": [
    {
     "name": "stdout",
     "output_type": "stream",
     "text": [
      "/Users/kemalshen/Library/Python/3.9/lib/python/site-packages/urllib3/__init__.py:35: NotOpenSSLWarning: urllib3 v2 only supports OpenSSL 1.1.1+, currently the 'ssl' module is compiled with 'LibreSSL 2.8.3'. See: https://github.com/urllib3/urllib3/issues/3020\n",
      "  warnings.warn(\n",
      "INFO:aiogram:Bot: ZalogAutoBot [@ZalogAutoBot]\n",
      "WARNING:aiogram:Updates were skipped successfully.\n",
      "INFO:aiogram.dispatcher.dispatcher:Start polling.\n",
      "^C\n",
      "INFO:aiogram.dispatcher.dispatcher:Stop polling...\n",
      "WARNING:aiogram:Goodbye!\n"
     ]
    }
   ],
   "source": [
    "!python3 client_bot.py\n"
   ]
  },
  {
   "cell_type": "code",
   "execution_count": 16,
   "metadata": {},
   "outputs": [
    {
     "name": "stdout",
     "output_type": "stream",
     "text": [
      "/Users/kemalshen/Library/Python/3.9/lib/python/site-packages/urllib3/__init__.py:35: NotOpenSSLWarning: urllib3 v2 only supports OpenSSL 1.1.1+, currently the 'ssl' module is compiled with 'LibreSSL 2.8.3'. See: https://github.com/urllib3/urllib3/issues/3020\n",
      "  warnings.warn(\n",
      "Traceback (most recent call last):\n",
      "  File \"/Users/kemalshen/Desktop/TelegramBot/client_bot.py\", line 13, in <module>\n",
      "    bot = Bot(token=API_TOKEN)\n",
      "  File \"/Users/kemalshen/Library/Python/3.9/lib/python/site-packages/aiogram/bot/base.py\", line 77, in __init__\n",
      "    api.check_token(token)\n",
      "  File \"/Users/kemalshen/Library/Python/3.9/lib/python/site-packages/aiogram/bot/api.py\", line 75, in check_token\n",
      "    raise exceptions.ValidationError('Token is invalid!')\n",
      "aiogram.utils.exceptions.ValidationError: Token is invalid!\n"
     ]
    }
   ],
   "source": [
    "!python3 client_bot.py\n"
   ]
  },
  {
   "cell_type": "code",
   "execution_count": 17,
   "metadata": {},
   "outputs": [
    {
     "name": "stdout",
     "output_type": "stream",
     "text": [
      "/Users/kemalshen/Library/Python/3.9/lib/python/site-packages/urllib3/__init__.py:35: NotOpenSSLWarning: urllib3 v2 only supports OpenSSL 1.1.1+, currently the 'ssl' module is compiled with 'LibreSSL 2.8.3'. See: https://github.com/urllib3/urllib3/issues/3020\n",
      "  warnings.warn(\n",
      "INFO:aiogram:Bot: ZalogAutoBot [@ZalogAutoBot]\n",
      "WARNING:aiogram:Updates were skipped successfully.\n",
      "INFO:aiogram.dispatcher.dispatcher:Start polling.\n",
      "^C\n",
      "INFO:aiogram.dispatcher.dispatcher:Stop polling...\n",
      "WARNING:aiogram:Goodbye!\n"
     ]
    }
   ],
   "source": [
    "!python3 client_bot.py\n"
   ]
  },
  {
   "cell_type": "code",
   "execution_count": 18,
   "metadata": {},
   "outputs": [
    {
     "name": "stdout",
     "output_type": "stream",
     "text": [
      "/Users/kemalshen/Library/Python/3.9/lib/python/site-packages/urllib3/__init__.py:35: NotOpenSSLWarning: urllib3 v2 only supports OpenSSL 1.1.1+, currently the 'ssl' module is compiled with 'LibreSSL 2.8.3'. See: https://github.com/urllib3/urllib3/issues/3020\n",
      "  warnings.warn(\n",
      "INFO:aiogram:Bot: ZalogAutoBot [@ZalogAutoBot]\n",
      "WARNING:aiogram:Updates were skipped successfully.\n",
      "INFO:aiogram.dispatcher.dispatcher:Start polling.\n",
      "^C\n",
      "INFO:aiogram.dispatcher.dispatcher:Stop polling...\n",
      "WARNING:aiogram:Goodbye!\n"
     ]
    }
   ],
   "source": [
    "!python3 client_bot.py\n"
   ]
  },
  {
   "cell_type": "code",
   "execution_count": 19,
   "metadata": {
    "scrolled": true
   },
   "outputs": [
    {
     "name": "stdout",
     "output_type": "stream",
     "text": [
      "/Users/kemalshen/Library/Python/3.9/lib/python/site-packages/urllib3/__init__.py:35: NotOpenSSLWarning: urllib3 v2 only supports OpenSSL 1.1.1+, currently the 'ssl' module is compiled with 'LibreSSL 2.8.3'. See: https://github.com/urllib3/urllib3/issues/3020\n",
      "  warnings.warn(\n",
      "INFO:aiogram:Bot: ZalogAutoBot [@ZalogAutoBot]\n",
      "WARNING:aiogram:Updates were skipped successfully.\n",
      "INFO:aiogram.dispatcher.dispatcher:Start polling.\n",
      "^C\n",
      "INFO:aiogram.dispatcher.dispatcher:Stop polling...\n",
      "WARNING:aiogram:Goodbye!\n"
     ]
    }
   ],
   "source": [
    "!python3 client_bot.py\n"
   ]
  },
  {
   "cell_type": "code",
   "execution_count": 20,
   "metadata": {},
   "outputs": [
    {
     "name": "stdout",
     "output_type": "stream",
     "text": [
      "/Users/kemalshen/Library/Python/3.9/lib/python/site-packages/urllib3/__init__.py:35: NotOpenSSLWarning: urllib3 v2 only supports OpenSSL 1.1.1+, currently the 'ssl' module is compiled with 'LibreSSL 2.8.3'. See: https://github.com/urllib3/urllib3/issues/3020\n",
      "  warnings.warn(\n",
      "Traceback (most recent call last):\n",
      "  File \"/Users/kemalshen/Desktop/TelegramBot/client_bot.py\", line 14, in <module>\n",
      "    bot = Bot(token=API_TOKEN)\n",
      "  File \"/Users/kemalshen/Library/Python/3.9/lib/python/site-packages/aiogram/bot/base.py\", line 77, in __init__\n",
      "    api.check_token(token)\n",
      "  File \"/Users/kemalshen/Library/Python/3.9/lib/python/site-packages/aiogram/bot/api.py\", line 75, in check_token\n",
      "    raise exceptions.ValidationError('Token is invalid!')\n",
      "aiogram.utils.exceptions.ValidationError: Token is invalid!\n"
     ]
    }
   ],
   "source": [
    "!python3 client_bot.py"
   ]
  },
  {
   "cell_type": "code",
   "execution_count": 21,
   "metadata": {},
   "outputs": [
    {
     "name": "stdout",
     "output_type": "stream",
     "text": [
      "/Users/kemalshen/Library/Python/3.9/lib/python/site-packages/urllib3/__init__.py:35: NotOpenSSLWarning: urllib3 v2 only supports OpenSSL 1.1.1+, currently the 'ssl' module is compiled with 'LibreSSL 2.8.3'. See: https://github.com/urllib3/urllib3/issues/3020\n",
      "  warnings.warn(\n",
      "Traceback (most recent call last):\n",
      "  File \"/Users/kemalshen/Desktop/TelegramBot/client_bot.py\", line 14, in <module>\n",
      "    bot = Bot(token=API_TOKEN)\n",
      "  File \"/Users/kemalshen/Library/Python/3.9/lib/python/site-packages/aiogram/bot/base.py\", line 77, in __init__\n",
      "    api.check_token(token)\n",
      "  File \"/Users/kemalshen/Library/Python/3.9/lib/python/site-packages/aiogram/bot/api.py\", line 75, in check_token\n",
      "    raise exceptions.ValidationError('Token is invalid!')\n",
      "aiogram.utils.exceptions.ValidationError: Token is invalid!\n"
     ]
    }
   ],
   "source": [
    "!python3 client_bot.py"
   ]
  },
  {
   "cell_type": "code",
   "execution_count": 22,
   "metadata": {},
   "outputs": [
    {
     "name": "stdout",
     "output_type": "stream",
     "text": [
      "/Users/kemalshen/Library/Python/3.9/lib/python/site-packages/urllib3/__init__.py:35: NotOpenSSLWarning: urllib3 v2 only supports OpenSSL 1.1.1+, currently the 'ssl' module is compiled with 'LibreSSL 2.8.3'. See: https://github.com/urllib3/urllib3/issues/3020\n",
      "  warnings.warn(\n",
      "INFO:aiogram:Bot: ZalogAutoBot [@ZalogAutoBot]\n",
      "WARNING:aiogram:Updates were skipped successfully.\n",
      "INFO:aiogram.dispatcher.dispatcher:Start polling.\n",
      "^C\n",
      "INFO:aiogram.dispatcher.dispatcher:Stop polling...\n",
      "WARNING:aiogram:Goodbye!\n"
     ]
    }
   ],
   "source": [
    "!python3 client_bot.py"
   ]
  },
  {
   "cell_type": "code",
   "execution_count": 23,
   "metadata": {},
   "outputs": [
    {
     "name": "stdout",
     "output_type": "stream",
     "text": [
      "  File \"/Users/kemalshen/Desktop/TelegramBot/client_bot.py\", line 42\r\n",
      "    async def select_year(callback: types.CallbackQuery):\r\n",
      "IndentationError: unexpected unindent\r\n"
     ]
    }
   ],
   "source": [
    "!python3 client_bot.py"
   ]
  },
  {
   "cell_type": "code",
   "execution_count": 24,
   "metadata": {},
   "outputs": [
    {
     "name": "stdout",
     "output_type": "stream",
     "text": [
      "/Users/kemalshen/Library/Python/3.9/lib/python/site-packages/urllib3/__init__.py:35: NotOpenSSLWarning: urllib3 v2 only supports OpenSSL 1.1.1+, currently the 'ssl' module is compiled with 'LibreSSL 2.8.3'. See: https://github.com/urllib3/urllib3/issues/3020\n",
      "  warnings.warn(\n",
      "INFO:aiogram:Bot: ZalogAutoBot [@ZalogAutoBot]\n",
      "WARNING:aiogram:Updates were skipped successfully.\n",
      "INFO:aiogram.dispatcher.dispatcher:Start polling.\n",
      "ERROR:asyncio:Task exception was never retrieved\n",
      "future: <Task finished name='Task-49' coro=<Dispatcher._process_polling_updates() done, defined at /Users/kemalshen/Library/Python/3.9/lib/python/site-packages/aiogram/dispatcher/dispatcher.py:407> exception=KeyError('Название авто')>\n",
      "Traceback (most recent call last):\n",
      "  File \"/Users/kemalshen/Library/Python/3.9/lib/python/site-packages/aiogram/dispatcher/dispatcher.py\", line 415, in _process_polling_updates\n",
      "    for responses in itertools.chain.from_iterable(await self.process_updates(updates, fast)):\n",
      "  File \"/Users/kemalshen/Library/Python/3.9/lib/python/site-packages/aiogram/dispatcher/dispatcher.py\", line 235, in process_updates\n",
      "    return await asyncio.gather(*tasks)\n",
      "  File \"/Users/kemalshen/Library/Python/3.9/lib/python/site-packages/aiogram/dispatcher/handler.py\", line 117, in notify\n",
      "    response = await handler_obj.handler(*args, **partial_data)\n",
      "  File \"/Users/kemalshen/Library/Python/3.9/lib/python/site-packages/aiogram/dispatcher/dispatcher.py\", line 256, in process_update\n",
      "    return await self.message_handlers.notify(update.message)\n",
      "  File \"/Users/kemalshen/Library/Python/3.9/lib/python/site-packages/aiogram/dispatcher/handler.py\", line 117, in notify\n",
      "    response = await handler_obj.handler(*args, **partial_data)\n",
      "  File \"/Users/kemalshen/Desktop/TelegramBot/client_bot.py\", line 33, in find_cars\n",
      "    available_marks = sorted(set(row['Название авто'].strip() for row in rows if row['Статус'] != ''))\n",
      "  File \"/Users/kemalshen/Desktop/TelegramBot/client_bot.py\", line 33, in <genexpr>\n",
      "    available_marks = sorted(set(row['Название авто'].strip() for row in rows if row['Статус'] != ''))\n",
      "KeyError: 'Название авто'\n",
      "ERROR:asyncio:Task exception was never retrieved\n",
      "future: <Task finished name='Task-57' coro=<Dispatcher._process_polling_updates() done, defined at /Users/kemalshen/Library/Python/3.9/lib/python/site-packages/aiogram/dispatcher/dispatcher.py:407> exception=KeyError('Название авто')>\n",
      "Traceback (most recent call last):\n",
      "  File \"/Users/kemalshen/Library/Python/3.9/lib/python/site-packages/aiogram/dispatcher/dispatcher.py\", line 415, in _process_polling_updates\n",
      "    for responses in itertools.chain.from_iterable(await self.process_updates(updates, fast)):\n",
      "  File \"/Users/kemalshen/Library/Python/3.9/lib/python/site-packages/aiogram/dispatcher/dispatcher.py\", line 235, in process_updates\n",
      "    return await asyncio.gather(*tasks)\n",
      "  File \"/Users/kemalshen/Library/Python/3.9/lib/python/site-packages/aiogram/dispatcher/handler.py\", line 117, in notify\n",
      "    response = await handler_obj.handler(*args, **partial_data)\n",
      "  File \"/Users/kemalshen/Library/Python/3.9/lib/python/site-packages/aiogram/dispatcher/dispatcher.py\", line 256, in process_update\n",
      "    return await self.message_handlers.notify(update.message)\n",
      "  File \"/Users/kemalshen/Library/Python/3.9/lib/python/site-packages/aiogram/dispatcher/handler.py\", line 117, in notify\n",
      "    response = await handler_obj.handler(*args, **partial_data)\n",
      "  File \"/Users/kemalshen/Desktop/TelegramBot/client_bot.py\", line 33, in find_cars\n",
      "    available_marks = sorted(set(row['Название авто'].strip() for row in rows if row['Статус'] != ''))\n",
      "  File \"/Users/kemalshen/Desktop/TelegramBot/client_bot.py\", line 33, in <genexpr>\n",
      "    available_marks = sorted(set(row['Название авто'].strip() for row in rows if row['Статус'] != ''))\n",
      "KeyError: 'Название авто'\n",
      "^C\n",
      "INFO:aiogram.dispatcher.dispatcher:Stop polling...\n",
      "WARNING:aiogram:Goodbye!\n"
     ]
    }
   ],
   "source": [
    "!python3 client_bot.py"
   ]
  },
  {
   "cell_type": "code",
   "execution_count": 25,
   "metadata": {},
   "outputs": [
    {
     "name": "stdout",
     "output_type": "stream",
     "text": [
      "/Users/kemalshen/Library/Python/3.9/lib/python/site-packages/urllib3/__init__.py:35: NotOpenSSLWarning: urllib3 v2 only supports OpenSSL 1.1.1+, currently the 'ssl' module is compiled with 'LibreSSL 2.8.3'. See: https://github.com/urllib3/urllib3/issues/3020\n",
      "  warnings.warn(\n",
      "WARNING:urllib3.connectionpool:Retrying (Retry(total=2, connect=None, read=None, redirect=None, status=None)) after connection broken by 'NameResolutionError(\"<urllib3.connection.HTTPSConnection object at 0x10d965250>: Failed to resolve 'oauth2.googleapis.com' ([Errno 8] nodename nor servname provided, or not known)\")': /token\n",
      "WARNING:urllib3.connectionpool:Retrying (Retry(total=1, connect=None, read=None, redirect=None, status=None)) after connection broken by 'NameResolutionError(\"<urllib3.connection.HTTPSConnection object at 0x10d965400>: Failed to resolve 'oauth2.googleapis.com' ([Errno 8] nodename nor servname provided, or not known)\")': /token\n",
      "WARNING:urllib3.connectionpool:Retrying (Retry(total=0, connect=None, read=None, redirect=None, status=None)) after connection broken by 'NameResolutionError(\"<urllib3.connection.HTTPSConnection object at 0x10d9655b0>: Failed to resolve 'oauth2.googleapis.com' ([Errno 8] nodename nor servname provided, or not known)\")': /token\n",
      "Traceback (most recent call last):\n",
      "  File \"/Users/kemalshen/Library/Python/3.9/lib/python/site-packages/urllib3/connection.py\", line 198, in _new_conn\n",
      "    sock = connection.create_connection(\n",
      "  File \"/Users/kemalshen/Library/Python/3.9/lib/python/site-packages/urllib3/util/connection.py\", line 60, in create_connection\n",
      "    for res in socket.getaddrinfo(host, port, family, socket.SOCK_STREAM):\n",
      "  File \"/Library/Developer/CommandLineTools/Library/Frameworks/Python3.framework/Versions/3.9/lib/python3.9/socket.py\", line 953, in getaddrinfo\n",
      "    for res in _socket.getaddrinfo(host, port, family, type, proto, flags):\n",
      "socket.gaierror: [Errno 8] nodename nor servname provided, or not known\n",
      "\n",
      "The above exception was the direct cause of the following exception:\n",
      "\n",
      "Traceback (most recent call last):\n",
      "  File \"/Users/kemalshen/Library/Python/3.9/lib/python/site-packages/urllib3/connectionpool.py\", line 787, in urlopen\n",
      "    response = self._make_request(\n",
      "  File \"/Users/kemalshen/Library/Python/3.9/lib/python/site-packages/urllib3/connectionpool.py\", line 488, in _make_request\n",
      "    raise new_e\n",
      "  File \"/Users/kemalshen/Library/Python/3.9/lib/python/site-packages/urllib3/connectionpool.py\", line 464, in _make_request\n",
      "    self._validate_conn(conn)\n",
      "  File \"/Users/kemalshen/Library/Python/3.9/lib/python/site-packages/urllib3/connectionpool.py\", line 1093, in _validate_conn\n",
      "    conn.connect()\n",
      "  File \"/Users/kemalshen/Library/Python/3.9/lib/python/site-packages/urllib3/connection.py\", line 704, in connect\n",
      "    self.sock = sock = self._new_conn()\n",
      "  File \"/Users/kemalshen/Library/Python/3.9/lib/python/site-packages/urllib3/connection.py\", line 205, in _new_conn\n",
      "    raise NameResolutionError(self.host, self, e) from e\n",
      "urllib3.exceptions.NameResolutionError: <urllib3.connection.HTTPSConnection object at 0x10d965760>: Failed to resolve 'oauth2.googleapis.com' ([Errno 8] nodename nor servname provided, or not known)\n",
      "\n",
      "The above exception was the direct cause of the following exception:\n",
      "\n",
      "Traceback (most recent call last):\n",
      "  File \"/Users/kemalshen/Library/Python/3.9/lib/python/site-packages/requests/adapters.py\", line 667, in send\n",
      "    resp = conn.urlopen(\n",
      "  File \"/Users/kemalshen/Library/Python/3.9/lib/python/site-packages/urllib3/connectionpool.py\", line 871, in urlopen\n",
      "    return self.urlopen(\n",
      "  File \"/Users/kemalshen/Library/Python/3.9/lib/python/site-packages/urllib3/connectionpool.py\", line 871, in urlopen\n",
      "    return self.urlopen(\n",
      "  File \"/Users/kemalshen/Library/Python/3.9/lib/python/site-packages/urllib3/connectionpool.py\", line 871, in urlopen\n",
      "    return self.urlopen(\n",
      "  File \"/Users/kemalshen/Library/Python/3.9/lib/python/site-packages/urllib3/connectionpool.py\", line 841, in urlopen\n",
      "    retries = retries.increment(\n",
      "  File \"/Users/kemalshen/Library/Python/3.9/lib/python/site-packages/urllib3/util/retry.py\", line 519, in increment\n",
      "    raise MaxRetryError(_pool, url, reason) from reason  # type: ignore[arg-type]\n",
      "urllib3.exceptions.MaxRetryError: HTTPSConnectionPool(host='oauth2.googleapis.com', port=443): Max retries exceeded with url: /token (Caused by NameResolutionError(\"<urllib3.connection.HTTPSConnection object at 0x10d965760>: Failed to resolve 'oauth2.googleapis.com' ([Errno 8] nodename nor servname provided, or not known)\"))\n",
      "\n",
      "During handling of the above exception, another exception occurred:\n",
      "\n",
      "Traceback (most recent call last):\n",
      "  File \"/Users/kemalshen/Library/Python/3.9/lib/python/site-packages/google/auth/transport/requests.py\", line 187, in __call__\n",
      "    response = self.session.request(\n",
      "  File \"/Users/kemalshen/Library/Python/3.9/lib/python/site-packages/requests/sessions.py\", line 589, in request\n",
      "    resp = self.send(prep, **send_kwargs)\n",
      "  File \"/Users/kemalshen/Library/Python/3.9/lib/python/site-packages/requests/sessions.py\", line 703, in send\n",
      "    r = adapter.send(request, **kwargs)\n",
      "  File \"/Users/kemalshen/Library/Python/3.9/lib/python/site-packages/requests/adapters.py\", line 700, in send\n",
      "    raise ConnectionError(e, request=request)\n",
      "requests.exceptions.ConnectionError: HTTPSConnectionPool(host='oauth2.googleapis.com', port=443): Max retries exceeded with url: /token (Caused by NameResolutionError(\"<urllib3.connection.HTTPSConnection object at 0x10d965760>: Failed to resolve 'oauth2.googleapis.com' ([Errno 8] nodename nor servname provided, or not known)\"))\n",
      "\n",
      "The above exception was the direct cause of the following exception:\n",
      "\n",
      "Traceback (most recent call last):\n",
      "  File \"/Users/kemalshen/Desktop/TelegramBot/client_bot.py\", line 22, in <module>\n",
      "    sheet = client.open(GSHEET_NAME).sheet1\n",
      "  File \"/Users/kemalshen/Library/Python/3.9/lib/python/site-packages/gspread/client.py\", line 145, in open\n",
      "    spreadsheet_files, response = self._list_spreadsheet_files(title, folder_id)\n",
      "  File \"/Users/kemalshen/Library/Python/3.9/lib/python/site-packages/gspread/client.py\", line 118, in _list_spreadsheet_files\n",
      "    response = self.http_client.request(\"get\", url, params=params)\n",
      "  File \"/Users/kemalshen/Library/Python/3.9/lib/python/site-packages/gspread/http_client.py\", line 114, in request\n",
      "    response = self.session.request(\n",
      "  File \"/Users/kemalshen/Library/Python/3.9/lib/python/site-packages/google/auth/transport/requests.py\", line 535, in request\n",
      "    self.credentials.before_request(auth_request, method, url, request_headers)\n",
      "  File \"/Users/kemalshen/Library/Python/3.9/lib/python/site-packages/google/auth/credentials.py\", line 239, in before_request\n",
      "    self._blocking_refresh(request)\n",
      "  File \"/Users/kemalshen/Library/Python/3.9/lib/python/site-packages/google/auth/credentials.py\", line 202, in _blocking_refresh\n",
      "    self.refresh(request)\n",
      "  File \"/Users/kemalshen/Library/Python/3.9/lib/python/site-packages/google/oauth2/service_account.py\", line 448, in refresh\n",
      "    access_token, expiry, _ = _client.jwt_grant(\n",
      "  File \"/Users/kemalshen/Library/Python/3.9/lib/python/site-packages/google/oauth2/_client.py\", line 299, in jwt_grant\n",
      "    response_data = _token_endpoint_request(\n",
      "  File \"/Users/kemalshen/Library/Python/3.9/lib/python/site-packages/google/oauth2/_client.py\", line 259, in _token_endpoint_request\n",
      "    response_status_ok, response_data, retryable_error = _token_endpoint_request_no_throw(\n",
      "  File \"/Users/kemalshen/Library/Python/3.9/lib/python/site-packages/google/oauth2/_client.py\", line 192, in _token_endpoint_request_no_throw\n",
      "    response = request(\n",
      "  File \"/Users/kemalshen/Library/Python/3.9/lib/python/site-packages/google/auth/transport/requests.py\", line 194, in __call__\n",
      "    raise new_exc from caught_exc\n",
      "google.auth.exceptions.TransportError: HTTPSConnectionPool(host='oauth2.googleapis.com', port=443): Max retries exceeded with url: /token (Caused by NameResolutionError(\"<urllib3.connection.HTTPSConnection object at 0x10d965760>: Failed to resolve 'oauth2.googleapis.com' ([Errno 8] nodename nor servname provided, or not known)\"))\n"
     ]
    }
   ],
   "source": [
    "!python3 client_bot.py"
   ]
  },
  {
   "cell_type": "code",
   "execution_count": 26,
   "metadata": {
    "scrolled": true
   },
   "outputs": [
    {
     "name": "stdout",
     "output_type": "stream",
     "text": [
      "/Users/kemalshen/Library/Python/3.9/lib/python/site-packages/urllib3/__init__.py:35: NotOpenSSLWarning: urllib3 v2 only supports OpenSSL 1.1.1+, currently the 'ssl' module is compiled with 'LibreSSL 2.8.3'. See: https://github.com/urllib3/urllib3/issues/3020\n",
      "  warnings.warn(\n",
      "INFO:aiogram:Bot: ZalogAutoBot [@ZalogAutoBot]\n",
      "WARNING:aiogram:Updates were skipped successfully.\n",
      "INFO:aiogram.dispatcher.dispatcher:Start polling.\n",
      "^C\n",
      "INFO:aiogram.dispatcher.dispatcher:Stop polling...\n",
      "WARNING:aiogram:Goodbye!\n"
     ]
    }
   ],
   "source": [
    "!python3 client_bot.py"
   ]
  },
  {
   "cell_type": "code",
   "execution_count": 27,
   "metadata": {},
   "outputs": [
    {
     "name": "stdout",
     "output_type": "stream",
     "text": [
      "/Users/kemalshen/Library/Python/3.9/lib/python/site-packages/urllib3/__init__.py:35: NotOpenSSLWarning: urllib3 v2 only supports OpenSSL 1.1.1+, currently the 'ssl' module is compiled with 'LibreSSL 2.8.3'. See: https://github.com/urllib3/urllib3/issues/3020\n",
      "  warnings.warn(\n",
      "INFO:aiogram:Bot: ZalogAutoBot [@ZalogAutoBot]\n",
      "WARNING:aiogram:Updates were skipped successfully.\n",
      "INFO:aiogram.dispatcher.dispatcher:Start polling.\n",
      "^C\n",
      "INFO:aiogram.dispatcher.dispatcher:Stop polling...\n",
      "WARNING:aiogram:Goodbye!\n"
     ]
    }
   ],
   "source": [
    "!python3 client_bot.py"
   ]
  },
  {
   "cell_type": "code",
   "execution_count": null,
   "metadata": {},
   "outputs": [],
   "source": []
  }
 ],
 "metadata": {
  "kernelspec": {
   "display_name": "Python 3",
   "language": "python",
   "name": "python3"
  },
  "language_info": {
   "codemirror_mode": {
    "name": "ipython",
    "version": 3
   },
   "file_extension": ".py",
   "mimetype": "text/x-python",
   "name": "python",
   "nbconvert_exporter": "python",
   "pygments_lexer": "ipython3",
   "version": "3.7.4"
  }
 },
 "nbformat": 4,
 "nbformat_minor": 2
}
